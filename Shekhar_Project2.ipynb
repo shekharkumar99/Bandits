{
 "cells": [
  {
   "cell_type": "markdown",
   "metadata": {},
   "source": [
    "# COMP90051 Project 2"
   ]
  },
  {
   "cell_type": "code",
   "execution_count": 348,
   "metadata": {
    "collapsed": true
   },
   "outputs": [],
   "source": [
    "# Do not edit. These are the only imports permitted.\n",
    "%matplotlib inline\n",
    "import numpy as np\n",
    "from numpy.linalg import inv\n",
    "import matplotlib.pyplot as plt\n",
    "from abc import ABC, abstractmethod"
   ]
  },
  {
   "cell_type": "markdown",
   "metadata": {},
   "source": [
    "## 1. Implement ε-Greedy and UCB"
   ]
  },
  {
   "cell_type": "code",
   "execution_count": 349,
   "metadata": {
    "collapsed": true
   },
   "outputs": [],
   "source": [
    "class MAB(ABC):\n",
    "    \"\"\"\n",
    "    Abstract class that represents a multi-armed bandit (MAB)\n",
    "    \"\"\"\n",
    "    \n",
    "    @abstractmethod\n",
    "    def play(self, tround, context):\n",
    "        \"\"\"\n",
    "        Play a round\n",
    "        \n",
    "        Arguments\n",
    "        =========\n",
    "        tround : int\n",
    "            positive integer identifying the round\n",
    "        \n",
    "        context : 1D float array, shape (self.ndims * self.narms), optional\n",
    "            context given to the arms\n",
    "        \n",
    "        Returns\n",
    "        =======\n",
    "        arm : int\n",
    "            the positive integer arm id for this round\n",
    "        \"\"\"\n",
    "    \n",
    "    @abstractmethod\n",
    "    def update(self, arm, reward, context):\n",
    "        \"\"\"\n",
    "        Updates the internal state of the MAB after a play\n",
    "        \n",
    "        Arguments\n",
    "        =========\n",
    "        arm : int\n",
    "            a positive integer arm id in {1, ..., self.narms}\n",
    "        \n",
    "        reward : float\n",
    "            reward received from arm\n",
    "        \n",
    "        context : 1D float array, shape (self.ndims * self.narms), optional\n",
    "            context given to arms\n",
    "        \"\"\""
   ]
  },
  {
   "cell_type": "code",
   "execution_count": 350,
   "metadata": {
    "collapsed": false
   },
   "outputs": [],
   "source": [
    "class EpsGreedy(MAB):\n",
    "    \"\"\"\n",
    "    Epsilon-Greedy multi-armed bandit\n",
    "\n",
    "    Arguments\n",
    "    =========\n",
    "    narms : int\n",
    "        number of arms\n",
    "\n",
    "    epsilon : float\n",
    "        explore probability\n",
    "\n",
    "    Q0 : float, optional\n",
    "        initial value for the arms\n",
    "    \"\"\"\n",
    "    \n",
    "    \n",
    "    \"\"\"\n",
    "    Epsilon - Greedy:\n",
    "    parameters: 1. narms: number of arms\n",
    "                2. epsilon\n",
    "                3. Q0 \n",
    "    Working:    1. narms is the number of distinct arms in data\n",
    "                2. Array q of size narms is created with all values assigned to infinity\n",
    "                3. An array play_count of size narms with all values assigned to 0\n",
    "    \n",
    "    \n",
    "    \"\"\"\n",
    "    def __init__(self, narms, epsilon, Q0=np.inf):\n",
    "        self.narms = narms\n",
    "        self.epsilon = epsilon\n",
    "        self.Q0 = Q0\n",
    "        self.q = [self.Q0 for col in range(self.narms)]\n",
    "        self.play_count = [0 for col in range(self.narms)]\n",
    "        \n",
    "        \n",
    "    \"\"\"\n",
    "    Parameter: 1. tround: round number\n",
    "               2. contexts(unused)\n",
    "               \n",
    "    Working:   1. Takes random values and compares with epsilon values, if less than epsilon it returns a random value\n",
    "                   If more than epsilon it returns the arm with maximum value of q for that arm\n",
    "               2. Epsilon handles exploration and 1- Epsilon handles exploitaion\n",
    "    Return :   index of q with max value +1 as the array starts from 0\n",
    "    \"\"\" \n",
    "        \n",
    "    def play(self, tround, context=None):\n",
    "        #self.tround = 1 + tround\n",
    "        rand_num = np.random.random_sample()\n",
    "        if rand_num < 1 - self.epsilon:\n",
    "            arms1 = np.random.uniform(0,self.narms + 1)\n",
    "            return arms1   \n",
    "        else:\n",
    "            n = np.argmax(self.q)\n",
    "            return n+1\n",
    "        \n",
    "        \n",
    "    \"\"\"\n",
    "    Parameter: 1. arm: arm selected from play function\n",
    "               2. reward: reward of the event which matched the arm\n",
    "               \n",
    "    Working:   1. Updates the value of q for the particular arm that is given in the \n",
    "                  argument with the reward for that event   \n",
    "    \"\"\"\n",
    "    def update(self, arm, reward, context=None):\n",
    "        self.play_count[arm-1] =self.play_count[arm-1] +1\n",
    "        n = self.play_count[arm-1]\n",
    "        new_Q = reward/self.play_count[arm-1]\n",
    "        self.q[arm-1] = new_Q\n",
    "        \n",
    "            \n",
    "        \n",
    "        \n",
    "    "
   ]
  },
  {
   "cell_type": "code",
   "execution_count": 351,
   "metadata": {
    "collapsed": false
   },
   "outputs": [],
   "source": [
    "class UCB(MAB):\n",
    "    \"\"\"\n",
    "    Upper Confidence Bound (UCB) multi-armed bandit\n",
    "\n",
    "    Arguments\n",
    "    =========\n",
    "    narms : int\n",
    "        number of arms\n",
    "\n",
    "    rho : float\n",
    "        positive real explore-exploit parameter\n",
    "\n",
    "    Q0 : float, optional\n",
    "        initial value for the arms\n",
    "    \"\"\"\n",
    "    \n",
    "    \"\"\"\n",
    "    UCB Initialization:\n",
    "    parameters: 1. narms: number of arms\n",
    "                2. rho\n",
    "                3. Q0\n",
    "                \n",
    "    Working:    1. Array Q of size narms is created with all values assigned to infinity\n",
    "                2. An array play_count of size narms with all values assigned to 0\n",
    "    \n",
    "    \"\"\"\n",
    "    def __init__(self, narms, rho, Q0=np.inf):\n",
    "        self.narms = narms\n",
    "        self.rho = rho\n",
    "        self.Q0 = Q0\n",
    "        self.Q = [self.Q0 for col in range(narms)]\n",
    "        self.play_count = [0.0 for col in range(narms)]\n",
    "        self.round = 0\n",
    "        \n",
    "    \"\"\"\n",
    "    Parameter: 1. tround: round number\n",
    "               2. contexts(unused)\n",
    "               \n",
    "    Working:    Initialize the current round\n",
    "    \n",
    "    Return:     Sends the arm with max value from Q array by taking the index of maximum value from Q \n",
    "    \"\"\"\n",
    "    def play(self, tround, context=None):\n",
    "        self.round =  tround\n",
    "        n = np.argmax(self.Q)\n",
    "        return n+1             #+1 as arms are from 1-10 and array is 0-9\n",
    "        \n",
    "    \"\"\"\n",
    "    Parameter: 1. arm: arm selected from play function\n",
    "               2. reward: reward of the event which matched the arm\n",
    "                   \n",
    "    Working:   1. Increasses the count of particular arm\n",
    "               2. Updates the Q value for the particuar arm given by formula mentioned in slides\n",
    "    \"\"\"\n",
    "    def update(self, arm, reward, context=None):\n",
    "        self.play_count[arm - 1] =self.play_count[arm - 1] +1\n",
    "        n = self.play_count[arm-1]\n",
    "        new_Q = (reward/self.play_count[arm-1]) + np.sqrt(self.rho*np.log((self.round)/self.play_count[arm-1]))\n",
    "        self.Q[arm-1] = new_Q\n",
    "        \n",
    "        \n",
    "        \n",
    "    "
   ]
  },
  {
   "cell_type": "code",
   "execution_count": 352,
   "metadata": {
    "collapsed": false
   },
   "outputs": [],
   "source": [
    "\"\"\"\n",
    "Reading data:\n",
    "Split the data and assign into three arrays arms, rewards, contexts\n",
    "\"\"\"\n",
    "data = open(\"dataset.txt\",'r')\n",
    "arms = []\n",
    "rewards =[]\n",
    "contexts =[]\n",
    "for x in data:\n",
    "\trow = x.split()\n",
    "\tt1 = int(row[0])\n",
    "\tt2 = int(row[1])\n",
    "\tarms.append(t1)\n",
    "\trewards.append(t2)\n",
    "\tcontexts.append([int(y) for y in row[2:]if y])\n",
    "    "
   ]
  },
  {
   "cell_type": "markdown",
   "metadata": {},
   "source": [
    "## 2. Off-Policy Evaluation"
   ]
  },
  {
   "cell_type": "code",
   "execution_count": 353,
   "metadata": {
    "collapsed": false
   },
   "outputs": [],
   "source": [
    "def offlineEvaluate(mab, arms, rewards, contexts, nrounds):\n",
    "    \"\"\"\n",
    "    Offline evaluation of a multi-armed bandit\n",
    "    \n",
    "    Arguments\n",
    "    =========\n",
    "    mab : instance of MAB\n",
    "    \n",
    "    arms : 1D int array, shape (nevents,) \n",
    "        integer arm id for each event\n",
    "    \n",
    "    rewards : 1D float array, shape (nevents,)\n",
    "        reward received for each event\n",
    "    \n",
    "    contexts : 2D float array, shape (nevents, mab.narms*nfeatures)\n",
    "        contexts presented to the arms (stacked horizontally) \n",
    "        for each event.\n",
    "        \n",
    "    nrounds : int, optional\n",
    "        number of matching events to evaluate `mab` on.\n",
    "    \n",
    "    Returns\n",
    "    =======\n",
    "    out : 1D float array\n",
    "        rewards for the matching events\n",
    "    \"\"\"\n",
    "    \n",
    "    \n",
    "    \"\"\"\n",
    "    Offline Evaluation:\n",
    "    \n",
    "    Working: 1. Checks if the number of round does not exceed the rounds given\n",
    "             2. The code runs for each event from the data \n",
    "             3. Uses play function of policies to recieve an arm \n",
    "             4. If arm is present in the list of arms from the data, add the reward of that event to history\n",
    "             5. Call the update function of policies \n",
    "             6. update tround as length of history which is the number of rounds played\n",
    "             \n",
    "    Returns: array history containing rewards\n",
    "    \n",
    "    \"\"\"\n",
    "    history=[]           # an array to store the rewards from the events\n",
    "    tround = 1           # round number starts from 1 - nrounds\n",
    "    for i in range(len(arms)):\n",
    "        if(tround > nrounds):\n",
    "            break\n",
    "        else:    \n",
    "            armID=mab.play(tround,contexts[i])       #armID takes the arm from play function of policies\n",
    "            if(armID in arms):\n",
    "                history.append(rewards[i])\n",
    "                mab.update(armID -1,rewards[i],contexts[i])      #calls the update function of policies to update the\n",
    "                                                                #Q value of that arm\n",
    "                tround = len(history) +1                       # update tround with the length of history\n",
    "    return history    \n",
    "            \n",
    "        \n",
    "    "
   ]
  },
  {
   "cell_type": "code",
   "execution_count": 354,
   "metadata": {
    "collapsed": false
   },
   "outputs": [
    {
     "name": "stdout",
     "output_type": "stream",
     "text": [
      "EpsGreedy average reward 0.09867172675521822\n"
     ]
    }
   ],
   "source": [
    "mab = EpsGreedy(10, 0.05)\n",
    "results_EpsGreedy = offlineEvaluate(mab, arms, rewards, contexts, 800)\n",
    "print('EpsGreedy average reward', np.mean(results_EpsGreedy))"
   ]
  },
  {
   "cell_type": "code",
   "execution_count": 355,
   "metadata": {
    "collapsed": false
   },
   "outputs": [
    {
     "name": "stdout",
     "output_type": "stream",
     "text": [
      "UCB average reward 0.105\n"
     ]
    }
   ],
   "source": [
    "mab = UCB(10, 1.0)\n",
    "results_UCB = offlineEvaluate(mab, arms, rewards, contexts, 800)\n",
    "print('UCB average reward', np.mean(results_UCB))"
   ]
  },
  {
   "cell_type": "code",
   "execution_count": 356,
   "metadata": {
    "collapsed": true
   },
   "outputs": [],
   "source": [
    "\"\"\"\n",
    "Take contexts as argument and returns an array of 1D vector by dividing the data into 10 equal parts\n",
    "\"\"\"\n",
    "def MakeMatrix(contexts):\n",
    "    a1 = np.array(contexts[0:10])\n",
    "    x1 = np.mat(a1).T\n",
    "    a2 = np.array(contexts[10:20])\n",
    "    x2 = np.mat(a2).T\n",
    "    a3 = np.array(contexts[20:30])\n",
    "    x3 = np.mat(a3).T\n",
    "    a4 = np.array(contexts[30:40])\n",
    "    x4 = np.mat(a4).T\n",
    "    a5 = np.array(contexts[40:50])\n",
    "    x5 = np.mat(a5).T\n",
    "    a6 = np.array(contexts[50:60])\n",
    "    x6 = np.mat(a6).T\n",
    "    a7 = np.array(contexts[60:70])\n",
    "    x7 = np.mat(a7).T\n",
    "    a8 = np.array(contexts[70:80])\n",
    "    x8 = np.mat(a8).T\n",
    "    a9 = np.array(contexts[80:90])\n",
    "    x9 = np.mat(a9).T\n",
    "    a10 = np.array(contexts[90:100])\n",
    "    x10 = np.mat(a10).T\n",
    "    new_context = [x1,x2,x3,x4,x5,x6,x7,x8,x9,x10]\n",
    "    return new_context"
   ]
  },
  {
   "cell_type": "markdown",
   "metadata": {},
   "source": [
    "## 3. Contextual Bandits"
   ]
  },
  {
   "cell_type": "code",
   "execution_count": 357,
   "metadata": {
    "collapsed": false
   },
   "outputs": [],
   "source": [
    "class LinUCB(MAB):\n",
    "    \"\"\"\n",
    "    Contextual multi-armed bandit (LinUCB)\n",
    "\n",
    "    Arguments\n",
    "    =========\n",
    "    narms : int\n",
    "        number of arms\n",
    "\n",
    "    ndims : int\n",
    "        number of dimensions for each arm's context\n",
    "\n",
    "    alpha : float\n",
    "        positive real explore-exploit parameter\n",
    "    \"\"\"\n",
    "    \n",
    "    \n",
    "    \"\"\"\n",
    "    LinUCB Initialization:\n",
    "    parameters: 1. narms: number of arms\n",
    "                2. ndims: Dimensions of matrix\n",
    "                3. alpha\n",
    "                \n",
    "    Working:    1. Initializes Two matrices A and B of size (narms * narms)\n",
    "    \"\"\"\n",
    "    def __init__(self, narms, ndims, alpha):\n",
    "        self.narms = narms\n",
    "        self.ndims = ndims\n",
    "        self.alpha = alpha\n",
    "        self.A = [[]] * narms\n",
    "        self.B = [[]] * narms\n",
    "        \n",
    "        \n",
    "    \"\"\"\n",
    "    Parameters: tround: round number, contexts per event\n",
    "     Working: 1. checks if the matrices A and B for that arm has been made if not, Initialize matrices\n",
    "                 A as identity matrix and B as zeroes matrix.\n",
    "              2. Calculate value of theta = A inv. * B\n",
    "              3. Call MakeMatrix with contexts as arguments, which returns an array of 10 equally separated\n",
    "                  1-D vectors\n",
    "              4. Calculate the payoff for each arm from the formula mentioned in WWW’2010 paper\n",
    "     Return: the arm with max payoff \n",
    "    \"\"\"\n",
    "        \n",
    "    def play(self, tround, context):\n",
    "        p={}\n",
    "        for arm in range(self.narms):\n",
    "            if(len(self.A[arm]) is 0):\n",
    "                self.A[arm] = np.identity(self.ndims)\n",
    "                self.B[arm] = np.zeros((self.ndims,1))\n",
    "            theta = np.matmul(np.linalg.inv(self.A[arm]),self.B[arm])          \n",
    "            context_matrix = MakeMatrix(context)\n",
    "            p1 =  theta.T.dot(context_matrix[arm])\n",
    "            p2 =   context_matrix[arm].T.dot(np.linalg.inv(self.A[arm])).dot(context_matrix[arm])     \n",
    "            p[arm] = float( p1 + self.alpha * np.sqrt(p2))\n",
    "        arm123=max(p, key=p.get)\n",
    "        return arm123 + 1            # + 1 as loop starts from 0\n",
    "            \n",
    "                \n",
    "                \n",
    "        \"\"\"\n",
    "        Prameters: 1. Arm from the play function if matched with the event\n",
    "                   2. Reward of that particular event\n",
    "                   3. contexts of that event\n",
    "                   \n",
    "        Working:   1. call the MakeMatrix function to make 1-D vectors of contexts\n",
    "                   2. Update value of A and B of that arm by the formula given in WWW’2010 paper\n",
    "        \"\"\"\n",
    "    \n",
    "    def update(self, arm, reward, context):\n",
    "        context_new = MakeMatrix(context)\n",
    "        self.A[arm] = self.A[arm] + context_new[arm].dot(context_new[arm].T)\n",
    "        self.B[arm] = self.B[arm] + reward *context_new[arm]\n",
    "        \n",
    "    "
   ]
  },
  {
   "cell_type": "code",
   "execution_count": 358,
   "metadata": {
    "collapsed": false
   },
   "outputs": [
    {
     "name": "stdout",
     "output_type": "stream",
     "text": [
      "LinUCB average reward 0.10571428571428572\n"
     ]
    }
   ],
   "source": [
    "mab = LinUCB(10, 10, 1.0)\n",
    "results_LinUCB = offlineEvaluate(mab, arms, rewards, contexts, 700)\n",
    "print('LinUCB average reward', np.mean(results_LinUCB))"
   ]
  },
  {
   "cell_type": "markdown",
   "metadata": {},
   "source": [
    "## 4. Evaluation\n",
    "### 4.A."
   ]
  },
  {
   "cell_type": "code",
   "execution_count": 331,
   "metadata": {
    "collapsed": false
   },
   "outputs": [
    {
     "name": "stderr",
     "output_type": "stream",
     "text": [
      "//anaconda/lib/python3.6/site-packages/ipykernel/__main__.py:52: RuntimeWarning: invalid value encountered in sqrt\n",
      "//anaconda/lib/python3.6/site-packages/matplotlib/figure.py:402: UserWarning: matplotlib is currently using a non-GUI backend, so cannot show the figure\n",
      "  \"matplotlib is currently using a non-GUI backend, \"\n"
     ]
    },
    {
     "data": {
      "image/png": "[encoded data removed]",
      "text/plain": [
       "<matplotlib.figure.Figure at 0x115a41208>"
      ]
     },
     "metadata": {},
     "output_type": "display_data"
    }
   ],
   "source": [
    "'''\n",
    "Working: 1. This code runs for a number of games specified by the Games variable and for the number \n",
    "            of rounds specified by Rounds.\n",
    "         2. We make three arrays(EPSRound,UCBRound,LINUCBRound) initialized with zeroes for all three \n",
    "            policies to store the result for each round\n",
    "         3. we start the for loop for the specified number of rounds, call the offlineEvaluate with the round number\n",
    "            for each policies and store the cumulative reward in an array \n",
    "         4. Plot the graph for round VS the cumulative rewards per round\n",
    "'''\n",
    "Games=1\n",
    "Rounds=800\n",
    "EPSRound=np.zeros(Rounds,dtype=float)\n",
    "UCBRound=np.zeros(Rounds,dtype=float)\n",
    "LINUCBRound=np.zeros(Rounds,dtype=float)\n",
    "rounds=[Rounds for x in range(Games)]\n",
    "rounds1=[x for x in range(Rounds)]\n",
    "averageScorePerRound=[]\n",
    "#print(rounds)\n",
    "games=[[]]*Games                  #list to store the score per round per game\n",
    "\n",
    "for i in range(Games):\n",
    "    epsMab = EpsGreedy(10, 0.05)\n",
    "    ucbMab = UCB(10, 1.0)\n",
    "    linUcbMab = LinUCB(10, 10, 1.0)\n",
    "    for j in range(1,(Rounds+1)):                #start from round 1 as round 0 is the initialization round\n",
    "        EPSRound[(j-1)]=EPSRound[(j-1)]+np.mean(offlineEvaluate(epsMab, arms, rewards, contexts, j))\n",
    "        UCBRound[(j-1)]=UCBRound[(j-1)]+np.mean(offlineEvaluate(ucbMab, arms, rewards, contexts, j))\n",
    "        LINUCBRound[(j-1)]=LINUCBRound[(j-1)]+np.mean(offlineEvaluate(linUcbMab, arms, rewards, contexts, j))\n",
    "\n",
    "\n",
    "\n",
    "\n",
    "\n",
    "\n",
    "fig = plt.figure()\n",
    "axes = fig.add_axes([0, 0, 1, 1])  # left,bottom,width,height(range 0 to 1)\n",
    "\n",
    "axes.plot(rounds1,EPSRound,'b', label='eps=0.05')\n",
    "axes.plot(rounds1,UCBRound,'r',label='UCB(1)')\n",
    "axes.plot(rounds1,LINUCBRound,'g',label='LINUCB(1)')\n",
    "axes.set_ylabel('Cumulative Reward')\n",
    "axes.set_xlabel('Round')\n",
    "axes.set_title('Evaluation of EPS Vs USB Vs LINUCB')\n",
    "axes.legend(loc=0)\n",
    "fig.show()"
   ]
  },
  {
   "cell_type": "markdown",
   "metadata": {},
   "source": [
    "### 4.B."
   ]
  },
  {
   "cell_type": "code",
   "execution_count": 334,
   "metadata": {
    "collapsed": false
   },
   "outputs": [
    {
     "ename": "KeyboardInterrupt",
     "evalue": "",
     "output_type": "error",
     "traceback": [
      "\u001b[0;31m---------------------------------------------------------------------------\u001b[0m",
      "\u001b[0;31mKeyboardInterrupt\u001b[0m                         Traceback (most recent call last)",
      "\u001b[0;32m<ipython-input-334-7d0a7f2241f1>\u001b[0m in \u001b[0;36m<module>\u001b[0;34m()\u001b[0m\n\u001b[1;32m     11\u001b[0m \u001b[0;32mfor\u001b[0m \u001b[0mindex\u001b[0m\u001b[0;34m,\u001b[0m\u001b[0mvalue\u001b[0m \u001b[0;32min\u001b[0m \u001b[0menumerate\u001b[0m\u001b[0;34m(\u001b[0m\u001b[0mgrid\u001b[0m\u001b[0;34m)\u001b[0m\u001b[0;34m:\u001b[0m\u001b[0;34m\u001b[0m\u001b[0m\n\u001b[1;32m     12\u001b[0m     \u001b[0mmab\u001b[0m \u001b[0;34m=\u001b[0m \u001b[0mLinUCB\u001b[0m\u001b[0;34m(\u001b[0m\u001b[0;36m10\u001b[0m\u001b[0;34m,\u001b[0m \u001b[0;36m10\u001b[0m\u001b[0;34m,\u001b[0m \u001b[0mvalue\u001b[0m\u001b[0;34m)\u001b[0m\u001b[0;34m\u001b[0m\u001b[0m\n\u001b[0;32m---> 13\u001b[0;31m     \u001b[0mresults_LinUCB\u001b[0m \u001b[0;34m=\u001b[0m \u001b[0mofflineEvaluate\u001b[0m\u001b[0;34m(\u001b[0m\u001b[0mmab\u001b[0m\u001b[0;34m,\u001b[0m \u001b[0marms\u001b[0m\u001b[0;34m,\u001b[0m \u001b[0mrewards\u001b[0m\u001b[0;34m,\u001b[0m \u001b[0mcontexts\u001b[0m\u001b[0;34m,\u001b[0m \u001b[0;36m800\u001b[0m\u001b[0;34m)\u001b[0m\u001b[0;34m\u001b[0m\u001b[0m\n\u001b[0m\u001b[1;32m     14\u001b[0m     \u001b[0;31m#print('LinUCB average reward', np.mean(results_LinUCB))\u001b[0m\u001b[0;34m\u001b[0m\u001b[0;34m\u001b[0m\u001b[0m\n\u001b[1;32m     15\u001b[0m     \u001b[0mlinucb\u001b[0m\u001b[0;34m[\u001b[0m\u001b[0mindex\u001b[0m\u001b[0;34m]\u001b[0m\u001b[0;34m=\u001b[0m\u001b[0mnp\u001b[0m\u001b[0;34m.\u001b[0m\u001b[0mmean\u001b[0m\u001b[0;34m(\u001b[0m\u001b[0mresults_LinUCB\u001b[0m\u001b[0;34m)\u001b[0m\u001b[0;34m\u001b[0m\u001b[0m\n",
      "\u001b[0;32m<ipython-input-325-f077bef94ef1>\u001b[0m in \u001b[0;36mofflineEvaluate\u001b[0;34m(mab, arms, rewards, contexts, nrounds)\u001b[0m\n\u001b[1;32m     42\u001b[0m             \u001b[0;32mif\u001b[0m\u001b[0;34m(\u001b[0m\u001b[0marmID\u001b[0m \u001b[0;32min\u001b[0m \u001b[0marms\u001b[0m\u001b[0;34m)\u001b[0m\u001b[0;34m:\u001b[0m\u001b[0;34m\u001b[0m\u001b[0m\n\u001b[1;32m     43\u001b[0m                 \u001b[0mhistory\u001b[0m\u001b[0;34m.\u001b[0m\u001b[0mappend\u001b[0m\u001b[0;34m(\u001b[0m\u001b[0mrewards\u001b[0m\u001b[0;34m[\u001b[0m\u001b[0mi\u001b[0m\u001b[0;34m]\u001b[0m\u001b[0;34m)\u001b[0m\u001b[0;34m\u001b[0m\u001b[0m\n\u001b[0;32m---> 44\u001b[0;31m                 \u001b[0mmab\u001b[0m\u001b[0;34m.\u001b[0m\u001b[0mupdate\u001b[0m\u001b[0;34m(\u001b[0m\u001b[0marmID\u001b[0m \u001b[0;34m-\u001b[0m\u001b[0;36m1\u001b[0m\u001b[0;34m,\u001b[0m\u001b[0mrewards\u001b[0m\u001b[0;34m[\u001b[0m\u001b[0mi\u001b[0m\u001b[0;34m]\u001b[0m\u001b[0;34m,\u001b[0m\u001b[0mcontexts\u001b[0m\u001b[0;34m[\u001b[0m\u001b[0mi\u001b[0m\u001b[0;34m]\u001b[0m\u001b[0;34m)\u001b[0m      \u001b[0;31m#calls the update function of policies to update the\u001b[0m\u001b[0;34m\u001b[0m\u001b[0m\n\u001b[0m\u001b[1;32m     45\u001b[0m                                                                 \u001b[0;31m#Q value of that arm\u001b[0m\u001b[0;34m\u001b[0m\u001b[0;34m\u001b[0m\u001b[0m\n\u001b[1;32m     46\u001b[0m                 \u001b[0mtround\u001b[0m \u001b[0;34m=\u001b[0m \u001b[0mlen\u001b[0m\u001b[0;34m(\u001b[0m\u001b[0mhistory\u001b[0m\u001b[0;34m)\u001b[0m \u001b[0;34m+\u001b[0m\u001b[0;36m1\u001b[0m\u001b[0;34m\u001b[0m\u001b[0m\n",
      "\u001b[0;32m<ipython-input-329-3d9c851ad3aa>\u001b[0m in \u001b[0;36mupdate\u001b[0;34m(self, arm, reward, context)\u001b[0m\n\u001b[1;32m     49\u001b[0m     \u001b[0;32mdef\u001b[0m \u001b[0mupdate\u001b[0m\u001b[0;34m(\u001b[0m\u001b[0mself\u001b[0m\u001b[0;34m,\u001b[0m \u001b[0marm\u001b[0m\u001b[0;34m,\u001b[0m \u001b[0mreward\u001b[0m\u001b[0;34m,\u001b[0m \u001b[0mcontext\u001b[0m\u001b[0;34m)\u001b[0m\u001b[0;34m:\u001b[0m\u001b[0;34m\u001b[0m\u001b[0m\n\u001b[1;32m     50\u001b[0m         \u001b[0mcontext_new\u001b[0m \u001b[0;34m=\u001b[0m \u001b[0mMakeMatrix\u001b[0m\u001b[0;34m(\u001b[0m\u001b[0mcontext\u001b[0m\u001b[0;34m)\u001b[0m\u001b[0;34m\u001b[0m\u001b[0m\n\u001b[0;32m---> 51\u001b[0;31m         \u001b[0mself\u001b[0m\u001b[0;34m.\u001b[0m\u001b[0mA\u001b[0m\u001b[0;34m[\u001b[0m\u001b[0marm\u001b[0m\u001b[0;34m]\u001b[0m \u001b[0;34m=\u001b[0m \u001b[0mself\u001b[0m\u001b[0;34m.\u001b[0m\u001b[0mA\u001b[0m\u001b[0;34m[\u001b[0m\u001b[0marm\u001b[0m\u001b[0;34m]\u001b[0m \u001b[0;34m+\u001b[0m \u001b[0mcontext_new\u001b[0m\u001b[0;34m[\u001b[0m\u001b[0marm\u001b[0m\u001b[0;34m]\u001b[0m\u001b[0;34m.\u001b[0m\u001b[0mdot\u001b[0m\u001b[0;34m(\u001b[0m\u001b[0mcontext_new\u001b[0m\u001b[0;34m[\u001b[0m\u001b[0marm\u001b[0m\u001b[0;34m]\u001b[0m\u001b[0;34m.\u001b[0m\u001b[0mT\u001b[0m\u001b[0;34m)\u001b[0m\u001b[0;34m\u001b[0m\u001b[0m\n\u001b[0m\u001b[1;32m     52\u001b[0m         \u001b[0mself\u001b[0m\u001b[0;34m.\u001b[0m\u001b[0mB\u001b[0m\u001b[0;34m[\u001b[0m\u001b[0marm\u001b[0m\u001b[0;34m]\u001b[0m \u001b[0;34m=\u001b[0m \u001b[0mself\u001b[0m\u001b[0;34m.\u001b[0m\u001b[0mB\u001b[0m\u001b[0;34m[\u001b[0m\u001b[0marm\u001b[0m\u001b[0;34m]\u001b[0m \u001b[0;34m+\u001b[0m \u001b[0mreward\u001b[0m \u001b[0;34m*\u001b[0m\u001b[0mcontext_new\u001b[0m\u001b[0;34m[\u001b[0m\u001b[0marm\u001b[0m\u001b[0;34m]\u001b[0m\u001b[0;34m\u001b[0m\u001b[0m\n\u001b[1;32m     53\u001b[0m \u001b[0;34m\u001b[0m\u001b[0m\n",
      "\u001b[0;32m//anaconda/lib/python3.6/site-packages/numpy/matrixlib/defmatrix.py\u001b[0m in \u001b[0;36m__array_finalize__\u001b[0;34m(self, obj)\u001b[0m\n\u001b[1;32m    162\u001b[0m         \u001b[0;32mreturn\u001b[0m \u001b[0mret\u001b[0m\u001b[0;34m\u001b[0m\u001b[0m\n\u001b[1;32m    163\u001b[0m \u001b[0;34m\u001b[0m\u001b[0m\n\u001b[0;32m--> 164\u001b[0;31m     \u001b[0;32mdef\u001b[0m \u001b[0m__array_finalize__\u001b[0m\u001b[0;34m(\u001b[0m\u001b[0mself\u001b[0m\u001b[0;34m,\u001b[0m \u001b[0mobj\u001b[0m\u001b[0;34m)\u001b[0m\u001b[0;34m:\u001b[0m\u001b[0;34m\u001b[0m\u001b[0m\n\u001b[0m\u001b[1;32m    165\u001b[0m         \u001b[0mself\u001b[0m\u001b[0;34m.\u001b[0m\u001b[0m_getitem\u001b[0m \u001b[0;34m=\u001b[0m \u001b[0;32mFalse\u001b[0m\u001b[0;34m\u001b[0m\u001b[0m\n\u001b[1;32m    166\u001b[0m         \u001b[0;32mif\u001b[0m \u001b[0;34m(\u001b[0m\u001b[0misinstance\u001b[0m\u001b[0;34m(\u001b[0m\u001b[0mobj\u001b[0m\u001b[0;34m,\u001b[0m \u001b[0mmatrix\u001b[0m\u001b[0;34m)\u001b[0m \u001b[0;32mand\u001b[0m \u001b[0mobj\u001b[0m\u001b[0;34m.\u001b[0m\u001b[0m_getitem\u001b[0m\u001b[0;34m)\u001b[0m\u001b[0;34m:\u001b[0m \u001b[0;32mreturn\u001b[0m\u001b[0;34m\u001b[0m\u001b[0m\n",
      "\u001b[0;31mKeyboardInterrupt\u001b[0m: "
     ]
    }
   ],
   "source": [
    "\"\"\"\n",
    "Working: 1. To optimize LinUCB we change the value of alpha for every run and check which value of alpha gives us the \n",
    "            best result.\n",
    "         2. we make an array alpha and fill it with alpha values with a differece of 0.5 \n",
    "         3. for each value of alpha we call the LinUCB function with that alpha value and then call offlineEvaluation \n",
    "            function and store the values in an array linucb\n",
    "         4. We then plot the graph for values of alpha to result to see, which value of alpha gives the optimal result\n",
    "\"\"\"\n",
    "alpha=np.zeros(100,dtype=float)\n",
    "for i in range(100):\n",
    "    alpha[i]=alpha[i-1]+0.5\n",
    "\n",
    "linucb=np.zeros(100,dtype=float)     \n",
    "\n",
    "for index,value in enumerate(alpha):\n",
    "    mab = LinUCB(10, 10, value)\n",
    "    results_LinUCB = offlineEvaluate(mab, arms, rewards, contexts, 200)\n",
    "    linucb[index]=np.mean(results_LinUCB)\n",
    "    \n",
    "fig = plt.figure()\n",
    "axes = fig.add_axes([0, 0, 1, 1])  # left,bottom,width,height(range 0 to 1)\n",
    "\n",
    "axes.plot(alpha,linucb,'g',label='LINUCB(1)')\n",
    "#axes.plot(x,y,'b')\n",
    "axes.set_ylabel('Average Reward')\n",
    "axes.set_xlabel('alpha value')\n",
    "axes.set_title('Grid Search for LINUCB')\n",
    "axes.legend(loc=0)\n",
    "fig.show()"
   ]
  },
  {
   "cell_type": "markdown",
   "metadata": {},
   "source": [
    "## 5. KernelUCB"
   ]
  },
  {
   "cell_type": "code",
   "execution_count": null,
   "metadata": {
    "collapsed": true
   },
   "outputs": [],
   "source": [
    "# Do not edit. Special import for this section.\n",
    "from sklearn.metrics.pairwise import rbf_kernel"
   ]
  },
  {
   "cell_type": "code",
   "execution_count": null,
   "metadata": {
    "collapsed": true
   },
   "outputs": [],
   "source": [
    "class KernelUCB(MAB):\n",
    "    \"\"\"\n",
    "    Kernelised contextual multi-armed bandit (Kernelised LinUCB)\n",
    "    \n",
    "    Arguments\n",
    "    =========\n",
    "    narms : int\n",
    "        number of arms\n",
    "\n",
    "    ndims : int\n",
    "        number of dimensions for each arm's context\n",
    "\n",
    "    gamma : float\n",
    "        positive real explore-exploit parameter\n",
    "    \n",
    "    eta : float\n",
    "        positive real explore-exploit parameter\n",
    "    \n",
    "    kern : callable\n",
    "        a kernel function from sklearn.metrics.pairwise\n",
    "    \"\"\"\n",
    "    def __init__(self, narms, ndims, gamma, eta, kern):\n",
    "        \n",
    "    \n",
    "    def play(self, tround, context):\n",
    "        \n",
    "    \n",
    "    def update(self, arm, reward, context):\n",
    "        \n",
    "    "
   ]
  }
 ],
 "metadata": {
  "kernelspec": {
   "display_name": "Python 3",
   "language": "python",
   "name": "python3"
  },
  "language_info": {
   "codemirror_mode": {
    "name": "ipython",
    "version": 3
   },
   "file_extension": ".py",
   "mimetype": "text/x-python",
   "name": "python",
   "nbconvert_exporter": "python",
   "pygments_lexer": "ipython3",
   "version": "3.6.0"
  }
 },
 "nbformat": 4,
 "nbformat_minor": 2
}
